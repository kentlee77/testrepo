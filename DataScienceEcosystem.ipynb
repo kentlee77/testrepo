{
 "cells": [
  {
   "cell_type": "markdown",
   "id": "103e8467-23e6-4777-9b68-b23cba81d3cb",
   "metadata": {
    "tags": []
   },
   "source": [
    "# Data Science Tools and Ecosystem\n",
    "\n",
    "## Author \n",
    "Name: His Majesty, Kenton Alan Lee\n",
    "\n",
    "\n",
    "__Objectives__\n",
    "- List popular languages for Data Science \n",
    "- List some other tools for data science \n",
    "- Show ability to use markdown language and basic math in Jupyter\n",
    "\n",
    "In this notebook, Data Science Tools and Ecosystem are summarized.\n",
    "1. Python\n",
    "2. C++\n",
    "3. Java\n",
    "\n",
    "Some of the commonly used libraries used by Data Scientists include:\n",
    "1. Pandas\n",
    "2. Seaborn\n",
    "3. Matplotlib "
   ]
  },
  {
   "cell_type": "markdown",
   "id": "b5bdc512-1dac-41f8-8a65-28eb66d7717d",
   "metadata": {},
   "source": [
    "|Data science tools| \n",
    "|-----|\n",
    "| ggplot2 | \n",
    "| pandas | \n",
    "| Jupyter Notebooks | \n",
    "| RStudio | \n",
    "| Anaconda |"
   ]
  },
  {
   "cell_type": "markdown",
   "id": "32465d4a-6c8f-49bb-bb40-722dab0644f0",
   "metadata": {
    "tags": []
   },
   "source": [
    "### Below are a few examples of evaluating arithmetic expressions in Python.\n",
    "This a simple arithmetic expression to mutiply then add integers"
   ]
  },
  {
   "cell_type": "code",
   "execution_count": 3,
   "id": "2b362da7-c1bd-419a-ae26-913144621cdc",
   "metadata": {
    "tags": []
   },
   "outputs": [
    {
     "data": {
      "text/plain": [
       "17"
      ]
     },
     "execution_count": 3,
     "metadata": {},
     "output_type": "execute_result"
    }
   ],
   "source": [
    "(3*4)+5"
   ]
  },
  {
   "cell_type": "markdown",
   "id": "c7b99229-e598-4e65-a58b-031a3a928171",
   "metadata": {},
   "source": [
    "This will convert 200 minutes to hours by diving by 60."
   ]
  },
  {
   "cell_type": "code",
   "execution_count": 4,
   "id": "350e2fca-126e-4884-9ecc-415cf54fe94f",
   "metadata": {
    "tags": []
   },
   "outputs": [
    {
     "data": {
      "text/plain": [
       "3.3333333333333335"
      ]
     },
     "execution_count": 4,
     "metadata": {},
     "output_type": "execute_result"
    }
   ],
   "source": [
    "200/60"
   ]
  },
  {
   "cell_type": "code",
   "execution_count": null,
   "id": "023b1d24-1884-46d1-a98a-2f0e5b0d2ad2",
   "metadata": {},
   "outputs": [],
   "source": []
  }
 ],
 "metadata": {
  "kernelspec": {
   "display_name": "Python",
   "language": "python",
   "name": "conda-env-python-py"
  },
  "language_info": {
   "codemirror_mode": {
    "name": "ipython",
    "version": 3
   },
   "file_extension": ".py",
   "mimetype": "text/x-python",
   "name": "python",
   "nbconvert_exporter": "python",
   "pygments_lexer": "ipython3",
   "version": "3.7.12"
  }
 },
 "nbformat": 4,
 "nbformat_minor": 5
}
